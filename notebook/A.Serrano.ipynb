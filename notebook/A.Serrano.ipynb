{
 "cells": [
  {
   "cell_type": "code",
   "execution_count": 16,
   "metadata": {},
   "outputs": [
    {
     "name": "stdout",
     "output_type": "stream",
     "text": [
      "La media del intervalo es:  72\n"
     ]
    }
   ],
   "source": [
    "#Genera una lista de 1000 enteros aleatorios en el ntervalo [−100, 100] y calcula su media. \n",
    "from random import randint\n",
    "for i in range(1000):\n",
    "    m = [int(randint(-100, 100))]\n",
    "media = mean(m)\n",
    "print(\"La media del intervalo es: \", media)"
   ]
  },
  {
   "cell_type": "code",
   "execution_count": 31,
   "metadata": {},
   "outputs": [
    {
     "name": "stdout",
     "output_type": "stream",
     "text": [
      "La media de altura es: 65.625\n",
      "La mediana de la altura es: 63.500\n",
      "La moda de la altura es: [61, 73]\n"
     ]
    }
   ],
   "source": [
    "#Las alturas de ocho estudiantes, medidas en pulgadas, son 71, 73, 59, 62, 65, 61, 73, 61. Calcula la media, la mediana y la moda de estas alturas.muestra = [71, 73, 59, 62, 65, 61, 73, 61]\n",
    "media =  mean(muestra).n(digits=5)\n",
    "mediana = median(muestra).n(digits=5)\n",
    "moda = mode(muestra)\n",
    "print('La media de altura es:', media )\n",
    "print('La mediana de la altura es:', mediana )\n",
    "print('La moda de la altura es:', moda )"
   ]
  },
  {
   "cell_type": "code",
   "execution_count": 36,
   "metadata": {},
   "outputs": [
    {
     "name": "stdout",
     "output_type": "stream",
     "text": [
      "La desviaciontipica es:  5.8294\n",
      "La varianza es:  33.982\n"
     ]
    }
   ],
   "source": [
    "#Usando los mismos datos, calcula la desviación típica y la varianza de las alturas de la muestra.\n",
    "dtipica = (std(muestra).n(digits = 5))\n",
    "print(\"La desviaciontipica es: \", dtipica)\n",
    "\n",
    "varianza = (variance(altura).n(digits = 5))\n",
    "print(\"La varianza es: \", varianza)\n",
    "\n",
    "\n"
   ]
  },
  {
   "cell_type": "code",
   "execution_count": 30,
   "metadata": {},
   "outputs": [
    {
     "name": "stdout",
     "output_type": "stream",
     "text": [
      "El rango de la muestra es:  59 73\n"
     ]
    }
   ],
   "source": [
    "#Calcula el rango de la muestra de alturas anterior.\n",
    "\n",
    "print(\"El rango de la muestra es: \", min(altura), max(altura))"
   ]
  },
  {
   "cell_type": "code",
   "execution_count": null,
   "metadata": {},
   "outputs": [],
   "source": []
  },
  {
   "cell_type": "code",
   "execution_count": null,
   "metadata": {},
   "outputs": [],
   "source": []
  },
  {
   "cell_type": "code",
   "execution_count": null,
   "metadata": {},
   "outputs": [],
   "source": []
  }
 ],
 "metadata": {
  "kernelspec": {
   "display_name": "SageMath 9.3",
   "language": "sage",
   "name": "sagemath"
  },
  "language_info": {
   "codemirror_mode": {
    "name": "ipython",
    "version": 3
   },
   "file_extension": ".py",
   "mimetype": "text/x-python",
   "name": "python",
   "nbconvert_exporter": "python",
   "pygments_lexer": "ipython3",
   "version": "3.7.10"
  }
 },
 "nbformat": 4,
 "nbformat_minor": 4
}
